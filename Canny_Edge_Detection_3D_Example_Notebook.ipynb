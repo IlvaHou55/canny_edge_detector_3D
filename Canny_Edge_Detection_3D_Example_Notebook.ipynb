{
 "cells": [
  {
   "cell_type": "markdown",
   "id": "7dbec75d",
   "metadata": {},
   "source": [
    "# Example notebook for use of Canny edge detection in 3D image"
   ]
  },
  {
   "cell_type": "markdown",
   "id": "797e56eb",
   "metadata": {},
   "source": [
    "### Load modules"
   ]
  },
  {
   "cell_type": "markdown",
   "id": "45ce3106",
   "metadata": {},
   "source": [
    "#### Edge detector and visualizer for 3D data"
   ]
  },
  {
   "cell_type": "code",
   "execution_count": null,
   "id": "e3bbc146",
   "metadata": {},
   "outputs": [],
   "source": [
    "import canny_edge_detector_3D as ced\n",
    "import slicer_3D "
   ]
  },
  {
   "cell_type": "markdown",
   "id": "d67aa6ca",
   "metadata": {},
   "source": [
    "#### Standard modules and for loading example image"
   ]
  },
  {
   "cell_type": "code",
   "execution_count": null,
   "id": "6861b305",
   "metadata": {},
   "outputs": [],
   "source": [
    "import numpy as np\n",
    "import matplotlib.pyplot as plt\n",
    "from medpy.io.load import load"
   ]
  },
  {
   "cell_type": "markdown",
   "id": "366d47b5",
   "metadata": {},
   "source": [
    "### Load example image"
   ]
  },
  {
   "cell_type": "code",
   "execution_count": null,
   "id": "f4df84e1",
   "metadata": {},
   "outputs": [],
   "source": [
    "img = load('path/to/image/MRI_4.nii')\n",
    "img = img[0]"
   ]
  },
  {
   "cell_type": "markdown",
   "id": "2e6181c2",
   "metadata": {},
   "source": [
    "## Perform edge detection"
   ]
  },
  {
   "cell_type": "markdown",
   "id": "a63dadb9",
   "metadata": {},
   "source": [
    "#### Parameters can be set according to specific needs"
   ]
  },
  {
   "cell_type": "code",
   "execution_count": null,
   "id": "7d2558b0",
   "metadata": {},
   "outputs": [],
   "source": [
    "detector = ced.cannyEdgeDetector3D(img, sigma=0.6, lowthresholdratio=0.3, highthresholdratio=0.2, weak_voxel=75, strong_voxel=255)\n",
    "img_edges = detector.detect()"
   ]
  },
  {
   "cell_type": "markdown",
   "id": "e78cb846",
   "metadata": {},
   "source": [
    "### Visualize result"
   ]
  },
  {
   "cell_type": "code",
   "execution_count": null,
   "id": "a411bf9f",
   "metadata": {},
   "outputs": [],
   "source": [
    "%matplotlib notebook\n",
    "\n",
    "fig, (ax1,ax2) = plt.subplots(1, 2)\n",
    "plt.subplots_adjust(wspace=0.3)\n",
    "\n",
    "tracker1 = slicer_3D.Slicer3D(ax1, img_edges)\n",
    "tracker2 = slicer_3D.Slicer3D(ax2, img)\n",
    "\n",
    "fig.canvas.mpl_connect('scroll_event', tracker1.on_scroll)\n",
    "fig.canvas.mpl_connect('scroll_event', tracker2.on_scroll)\n",
    "\n",
    "fig.set_figheight(8)\n",
    "fig.set_figwidth(8)\n",
    "plt.show()"
   ]
  }
 ],
 "metadata": {
  "kernelspec": {
   "display_name": "Python 3 (ipykernel)",
   "language": "python",
   "name": "python3"
  },
  "language_info": {
   "codemirror_mode": {
    "name": "ipython",
    "version": 3
   },
   "file_extension": ".py",
   "mimetype": "text/x-python",
   "name": "python",
   "nbconvert_exporter": "python",
   "pygments_lexer": "ipython3",
   "version": "3.7.9"
  }
 },
 "nbformat": 4,
 "nbformat_minor": 5
}
